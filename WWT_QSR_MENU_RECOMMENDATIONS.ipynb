{
  "nbformat": 4,
  "nbformat_minor": 0,
  "metadata": {
    "colab": {
      "provenance": []
    },
    "kernelspec": {
      "name": "python3",
      "display_name": "Python 3"
    },
    "language_info": {
      "name": "python"
    }
  },
  "cells": [
    {
      "cell_type": "markdown",
      "source": [
        "##**QSR Menu Recommendations**\n",
        "\n",
        "##**Executive Summary**\n",
        "\n",
        "This project addresses the WWT Unstop Round 2 challenge of predicting a missing item in a customer’s partial cart and recommending the top 3 likely items, evaluated using **Recall@3**.  \n",
        "Using **historical transaction data**, we applied a **co-occurrence-based recommendation algorithm** with a popularity fallback to ensure robust suggestions even for sparse cases.  \n",
        "The solution achieved a **Recall@3 score of 0.327**, meaning ~33% of true missing items appeared in the top 3 recommendations.  \n",
        "The approach is **fully reproducible**, well-structured, and ready for scaling with personalization, seasonal adjustments, and hybrid recommendation models in future iterations.  \n",
        "This documentation provides a complete breakdown of **dataset details, methodology, codebase structure, evaluation, and future work**.\n",
        "\n",
        "\n",
        "##**1.Overview**\n",
        "This project optimizes **menu recommendations** and **customer segmentation** for a Quick Service Restaurant (QSR) chain.  \n",
        "It uses transaction data to identify co-occurrence patterns between items and generate top-3 recommendations for partial customer carts.\n",
        "\n",
        "---\n",
        "\n",
        "##**2.Problem Statement**\n",
        "**Given:**\n",
        "- Historical transaction logs (orders with items purchased)\n",
        "- Customer demographic fields (not used in baseline)\n",
        "- Partial cart with one missing item\n",
        "\n",
        "**We aim to:**\n",
        "1. Predict the missing item in the customer’s cart.\n",
        "2. Generate **top 3** recommendations per order.\n",
        "3. Evaluate performance using **Recall@3**.\n",
        "\n",
        "**Competition Alignment:**  \n",
        "- Input: Partial cart with 1 missing item  \n",
        "- Output: Top 3 recommended items (**Recall@3** evaluation)\n",
        "\n",
        "---\n",
        "\n",
        "##**3.Dataset Description**\n",
        "| Column Name           | Description                              |\n",
        "|-----------------------|------------------------------------------|\n",
        "| CUSTOMER_ID           | Unique ID for customer                   |\n",
        "| ORDER_ID              | Order identifier                         |\n",
        "| item1, item2, item3   | Items in the order (partial in test set) |\n",
        "| CUSTOMER_TYPE         | Guest or Registered (not used in baseline)|\n",
        "| ORDER_OCCASION_NAME   | Occasion type (not used in baseline)      |\n",
        "\n",
        "---\n",
        "\n",
        "##**4.Methodology**\n",
        "1. **Data Preprocessing** – Normalize item names, handle missing values.\n",
        "2. **EDA** – Identify top-selling items and frequent item pairs.\n",
        "3. **Recommendation Generation** –  \n",
        "   - Build item co-occurrence counts from historical data.  \n",
        "   - Recommend items most frequently bought together with items in the cart.  \n",
        "   - Use popular items as fallback if co-occurrence is insufficient.\n",
        "4. **Evaluation** – Calculate **Recall@3**.\n",
        "\n",
        "---\n",
        "\n",
        "##**5.Codebase Structure**\n",
        "```plaintext\n",
        "qsr-recommendation/\n",
        "├── data/\n",
        "│   ├── raw/               # Raw data (or sample)\n",
        "│   ├── processed/         # Cleaned datasets\n",
        "├── notebooks/             # Jupyter notebooks for exploration\n",
        "├── src/\n",
        "│   ├── data/              # Data loading & preprocessing scripts\n",
        "│   ├── models/            # Prediction, evaluation scripts\n",
        "│   ├── utils/             # Helper functions\n",
        "├── outputs/               # Final output sheet & figures\n",
        "├── requirements.txt       # Dependencies\n",
        "└── README.md              # Project documentation\n",
        "```\n",
        "\n",
        "---\n",
        "\n",
        "##**6.Installation & Usage**\n",
        "\n",
        "### Requirements\n",
        "- Python 3.9+\n",
        "- Install dependencies:\n",
        "```bash\n",
        "pip install -r requirements.txt\n",
        "```\n",
        "\n",
        "###**End-to-End Run**\n",
        "```bash\n",
        "# 1. Preprocess data\n",
        "python src/data/preprocess.py --config config.yml\n",
        "```\n",
        "```bash\n",
        "# 2. Predict recommendations\n",
        "python src/models/predict.py     --model-path experiments/best_model.pkl     --test data/raw/test_data_question.csv     --out outputs/Output_Sheet.xlsx\n",
        "```\n",
        "```bash\n",
        "# 3. Evaluate Recall@3 (optional local check)\n",
        "python src/models/evaluate.py     --pred outputs/Output_Sheet.xlsx     --gold data/raw/test_gold.csv     --metric recall@3\n",
        "```\n",
        "\n",
        "---\n",
        "\n",
        "##**7.Core Recommendation Logic**\n",
        "```python\n",
        "from collections import Counter\n",
        "from itertools import combinations\n",
        "import pandas as pd\n",
        "\n",
        "def normalize(text):\n",
        "    return str(text).strip().lower()\n",
        "\n",
        "def build_pair_counts(df):\n",
        "    pair_counts = Counter()\n",
        "    for _, row in df.iterrows():\n",
        "        items = [normalize(row['item1']), normalize(row['item2']), normalize(row['item3'])]\n",
        "        for pair in combinations(set(items), 2):\n",
        "            pair_counts[tuple(sorted(pair))] += 1\n",
        "    return pair_counts\n",
        "\n",
        "def recommend_items(cart, pair_counts, popular_items, top_n=3):\n",
        "    cart = [normalize(i) for i in cart]\n",
        "    recs = Counter()\n",
        "    for item in cart:\n",
        "        for pair, count in pair_counts.items():\n",
        "            if item in pair:\n",
        "                other = pair[0] if pair[1] == item else pair[1]\n",
        "                if other not in cart:\n",
        "                    recs[other] += count\n",
        "    results = [item for item, _ in recs.most_common(top_n)]\n",
        "    for fallback in popular_items:\n",
        "        if fallback not in cart and fallback not in results:\n",
        "            results.append(fallback)\n",
        "        if len(results) >= top_n:\n",
        "            break\n",
        "    return results[:top_n]\n",
        "```\n",
        "\n",
        "---\n",
        "\n",
        "##**8.Output Format**\n",
        "**`Output_Sheet.xlsx`** contains:\n",
        "- CUSTOMER_ID  \n",
        "- ORDER_ID  \n",
        "- item1, item2, item3 (partial cart in test set)  \n",
        "- RECOMMENDATION 1 / 2 / 3\n",
        "\n",
        "---\n",
        "\n",
        "## 9. Results Summary\n",
        "- **Recall@3 Achieved:** `0.327` (~33% of true missing items are in top-3)  \n",
        "- This is a **baseline** co-occurrence + popularity fallback method.  \n",
        "- No personalization or seasonal adjustment applied yet.\n",
        "\n",
        "---\n",
        "\n",
        "##**10.Future Work**\n",
        "- Integrate personalization using `CUSTOMER_TYPE` and `ORDER_OCCASION_NAME`.\n",
        "- Explore hybrid recommendation approaches.\n",
        "- Add seasonal trend adjustments.\n",
        "- Optimize scoring weights for Recall@3 improvement.\n",
        "\n",
        "---\n",
        "\n",
        "##**11.Authors**\n",
        "**Atharv Kulkarni**  \n",
        "**Hrithik Rayapati**  \n",
        "**2025**\n"
      ],
      "metadata": {
        "id": "cU6mWNF2BDq2"
      }
    },
    {
      "cell_type": "markdown",
      "source": [
        "#**MOUNT GOOGLE DRIVE**"
      ],
      "metadata": {
        "id": "K9nqZZxqq43P"
      }
    },
    {
      "cell_type": "code",
      "source": [
        "from google.colab import drive\n",
        "drive.mount('/content/drive')"
      ],
      "metadata": {
        "colab": {
          "base_uri": "https://localhost:8080/"
        },
        "id": "dzoFpKRilxhn",
        "outputId": "d8d7290a-0602-4f98-e795-975148202d3b"
      },
      "execution_count": null,
      "outputs": [
        {
          "output_type": "stream",
          "name": "stdout",
          "text": [
            "Mounted at /content/drive\n"
          ]
        }
      ]
    },
    {
      "cell_type": "markdown",
      "source": [
        "#**INSTALL REQUIRED PACKAGES**"
      ],
      "metadata": {
        "id": "3gD9cTxVtOL2"
      }
    },
    {
      "cell_type": "code",
      "source": [
        "!pip install pandas mlxtend openpyxl"
      ],
      "metadata": {
        "colab": {
          "base_uri": "https://localhost:8080/"
        },
        "id": "kyuFKncKl6Mf",
        "outputId": "84555427-4f5d-42d2-ba23-8eb300006912"
      },
      "execution_count": null,
      "outputs": [
        {
          "output_type": "stream",
          "name": "stdout",
          "text": [
            "Requirement already satisfied: pandas in /usr/local/lib/python3.11/dist-packages (2.2.2)\n",
            "Requirement already satisfied: mlxtend in /usr/local/lib/python3.11/dist-packages (0.23.4)\n",
            "Requirement already satisfied: openpyxl in /usr/local/lib/python3.11/dist-packages (3.1.5)\n",
            "Requirement already satisfied: numpy>=1.23.2 in /usr/local/lib/python3.11/dist-packages (from pandas) (2.0.2)\n",
            "Requirement already satisfied: python-dateutil>=2.8.2 in /usr/local/lib/python3.11/dist-packages (from pandas) (2.9.0.post0)\n",
            "Requirement already satisfied: pytz>=2020.1 in /usr/local/lib/python3.11/dist-packages (from pandas) (2025.2)\n",
            "Requirement already satisfied: tzdata>=2022.7 in /usr/local/lib/python3.11/dist-packages (from pandas) (2025.2)\n",
            "Requirement already satisfied: scipy>=1.2.1 in /usr/local/lib/python3.11/dist-packages (from mlxtend) (1.16.1)\n",
            "Requirement already satisfied: scikit-learn>=1.3.1 in /usr/local/lib/python3.11/dist-packages (from mlxtend) (1.6.1)\n",
            "Requirement already satisfied: matplotlib>=3.0.0 in /usr/local/lib/python3.11/dist-packages (from mlxtend) (3.10.0)\n",
            "Requirement already satisfied: joblib>=0.13.2 in /usr/local/lib/python3.11/dist-packages (from mlxtend) (1.5.1)\n",
            "Requirement already satisfied: et-xmlfile in /usr/local/lib/python3.11/dist-packages (from openpyxl) (2.0.0)\n",
            "Requirement already satisfied: contourpy>=1.0.1 in /usr/local/lib/python3.11/dist-packages (from matplotlib>=3.0.0->mlxtend) (1.3.3)\n",
            "Requirement already satisfied: cycler>=0.10 in /usr/local/lib/python3.11/dist-packages (from matplotlib>=3.0.0->mlxtend) (0.12.1)\n",
            "Requirement already satisfied: fonttools>=4.22.0 in /usr/local/lib/python3.11/dist-packages (from matplotlib>=3.0.0->mlxtend) (4.59.0)\n",
            "Requirement already satisfied: kiwisolver>=1.3.1 in /usr/local/lib/python3.11/dist-packages (from matplotlib>=3.0.0->mlxtend) (1.4.8)\n",
            "Requirement already satisfied: packaging>=20.0 in /usr/local/lib/python3.11/dist-packages (from matplotlib>=3.0.0->mlxtend) (25.0)\n",
            "Requirement already satisfied: pillow>=8 in /usr/local/lib/python3.11/dist-packages (from matplotlib>=3.0.0->mlxtend) (11.3.0)\n",
            "Requirement already satisfied: pyparsing>=2.3.1 in /usr/local/lib/python3.11/dist-packages (from matplotlib>=3.0.0->mlxtend) (3.2.3)\n",
            "Requirement already satisfied: six>=1.5 in /usr/local/lib/python3.11/dist-packages (from python-dateutil>=2.8.2->pandas) (1.17.0)\n",
            "Requirement already satisfied: threadpoolctl>=3.1.0 in /usr/local/lib/python3.11/dist-packages (from scikit-learn>=1.3.1->mlxtend) (3.6.0)\n"
          ]
        }
      ]
    },
    {
      "cell_type": "markdown",
      "source": [
        "#**IMPORT LIBRARIES**"
      ],
      "metadata": {
        "id": "BoyjdcBLq9wY"
      }
    },
    {
      "cell_type": "code",
      "source": [
        "import pandas as pd\n",
        "from collections import Counter\n",
        "from itertools import combinations"
      ],
      "metadata": {
        "id": "_7qJeO70l91n"
      },
      "execution_count": null,
      "outputs": []
    },
    {
      "cell_type": "markdown",
      "source": [
        "#**Load and normalize data**"
      ],
      "metadata": {
        "id": "be-0XFPJrDrH"
      }
    },
    {
      "cell_type": "code",
      "source": [
        "df = pd.read_csv('/content/test_data_question.csv')\n",
        "def normalize(text): return str(text).strip().lower()\n",
        "for col in ['item1', 'item2', 'item3']:\n",
        "    df[col] = df[col].astype(str).apply(normalize)"
      ],
      "metadata": {
        "id": "N7otYEV9mE73"
      },
      "execution_count": null,
      "outputs": []
    },
    {
      "cell_type": "markdown",
      "source": [
        "#**BASIC PREPROCESSING**"
      ],
      "metadata": {
        "id": "nK6Bswb-rh1H"
      }
    },
    {
      "cell_type": "code",
      "source": [
        "df.info()"
      ],
      "metadata": {
        "colab": {
          "base_uri": "https://localhost:8080/"
        },
        "id": "z6ZVxQZEnDA5",
        "outputId": "ca38d511-2bb4-4da2-b011-2bf1454d056a"
      },
      "execution_count": null,
      "outputs": [
        {
          "output_type": "stream",
          "name": "stdout",
          "text": [
            "<class 'pandas.core.frame.DataFrame'>\n",
            "RangeIndex: 1000 entries, 0 to 999\n",
            "Data columns (total 10 columns):\n",
            " #   Column                 Non-Null Count  Dtype \n",
            "---  ------                 --------------  ----- \n",
            " 0   CUSTOMER_ID            1000 non-null   int64 \n",
            " 1   STORE_NUMBER           1000 non-null   int64 \n",
            " 2   ORDER_ID               1000 non-null   int64 \n",
            " 3   ORDER_CHANNEL_NAME     1000 non-null   object\n",
            " 4   ORDER_SUBCHANNEL_NAME  1000 non-null   object\n",
            " 5   ORDER_OCCASION_NAME    1000 non-null   object\n",
            " 6   CUSTOMER_TYPE          1000 non-null   object\n",
            " 7   item1                  1000 non-null   object\n",
            " 8   item2                  1000 non-null   object\n",
            " 9   item3                  1000 non-null   object\n",
            "dtypes: int64(3), object(7)\n",
            "memory usage: 78.3+ KB\n"
          ]
        }
      ]
    },
    {
      "cell_type": "code",
      "source": [
        "df.isnull().sum()\n",
        "df.dtypes"
      ],
      "metadata": {
        "colab": {
          "base_uri": "https://localhost:8080/",
          "height": 397
        },
        "id": "2DgWRphLnVLJ",
        "outputId": "4509d979-4338-4cd9-af3d-179863ad8cac"
      },
      "execution_count": null,
      "outputs": [
        {
          "output_type": "execute_result",
          "data": {
            "text/plain": [
              "CUSTOMER_ID               int64\n",
              "STORE_NUMBER              int64\n",
              "ORDER_ID                  int64\n",
              "ORDER_CHANNEL_NAME       object\n",
              "ORDER_SUBCHANNEL_NAME    object\n",
              "ORDER_OCCASION_NAME      object\n",
              "CUSTOMER_TYPE            object\n",
              "item1                    object\n",
              "item2                    object\n",
              "item3                    object\n",
              "dtype: object"
            ],
            "text/html": [
              "<div>\n",
              "<style scoped>\n",
              "    .dataframe tbody tr th:only-of-type {\n",
              "        vertical-align: middle;\n",
              "    }\n",
              "\n",
              "    .dataframe tbody tr th {\n",
              "        vertical-align: top;\n",
              "    }\n",
              "\n",
              "    .dataframe thead th {\n",
              "        text-align: right;\n",
              "    }\n",
              "</style>\n",
              "<table border=\"1\" class=\"dataframe\">\n",
              "  <thead>\n",
              "    <tr style=\"text-align: right;\">\n",
              "      <th></th>\n",
              "      <th>0</th>\n",
              "    </tr>\n",
              "  </thead>\n",
              "  <tbody>\n",
              "    <tr>\n",
              "      <th>CUSTOMER_ID</th>\n",
              "      <td>int64</td>\n",
              "    </tr>\n",
              "    <tr>\n",
              "      <th>STORE_NUMBER</th>\n",
              "      <td>int64</td>\n",
              "    </tr>\n",
              "    <tr>\n",
              "      <th>ORDER_ID</th>\n",
              "      <td>int64</td>\n",
              "    </tr>\n",
              "    <tr>\n",
              "      <th>ORDER_CHANNEL_NAME</th>\n",
              "      <td>object</td>\n",
              "    </tr>\n",
              "    <tr>\n",
              "      <th>ORDER_SUBCHANNEL_NAME</th>\n",
              "      <td>object</td>\n",
              "    </tr>\n",
              "    <tr>\n",
              "      <th>ORDER_OCCASION_NAME</th>\n",
              "      <td>object</td>\n",
              "    </tr>\n",
              "    <tr>\n",
              "      <th>CUSTOMER_TYPE</th>\n",
              "      <td>object</td>\n",
              "    </tr>\n",
              "    <tr>\n",
              "      <th>item1</th>\n",
              "      <td>object</td>\n",
              "    </tr>\n",
              "    <tr>\n",
              "      <th>item2</th>\n",
              "      <td>object</td>\n",
              "    </tr>\n",
              "    <tr>\n",
              "      <th>item3</th>\n",
              "      <td>object</td>\n",
              "    </tr>\n",
              "  </tbody>\n",
              "</table>\n",
              "</div><br><label><b>dtype:</b> object</label>"
            ]
          },
          "metadata": {},
          "execution_count": 15
        }
      ]
    },
    {
      "cell_type": "code",
      "source": [
        "df['CUSTOMER_TYPE'].value_counts().plot(kind='bar', title='Guest vs Registered')"
      ],
      "metadata": {
        "colab": {
          "base_uri": "https://localhost:8080/",
          "height": 549
        },
        "id": "bCG4ioIIncDH",
        "outputId": "48b66af1-8a5e-4c17-b5e3-72908e84c504"
      },
      "execution_count": null,
      "outputs": [
        {
          "output_type": "execute_result",
          "data": {
            "text/plain": [
              "<Axes: title={'center': 'Guest vs Registered'}, xlabel='CUSTOMER_TYPE'>"
            ]
          },
          "metadata": {},
          "execution_count": 17
        },
        {
          "output_type": "display_data",
          "data": {
            "text/plain": [
              "<Figure size 640x480 with 1 Axes>"
            ],
            "image/png": "[encoded data removed]"
          },
          "metadata": {}
        }
      ]
    },
    {
      "cell_type": "code",
      "source": [
        "df['ORDER_OCCASION_NAME'].value_counts().plot(kind='pie', autopct='%1.1f%%', title='Order Occasions')\n",
        "df['ORDER_SUBCHANNEL_NAME'].value_counts().plot(kind='bar', title='Order Sub Channel')"
      ],
      "metadata": {
        "colab": {
          "base_uri": "https://localhost:8080/",
          "height": 489
        },
        "id": "b7ii7mxfnjGJ",
        "outputId": "54f00f96-4cda-4080-97aa-356ee58b0f2c"
      },
      "execution_count": null,
      "outputs": [
        {
          "output_type": "execute_result",
          "data": {
            "text/plain": [
              "<Axes: title={'center': 'Order Sub Channel'}, xlabel='ORDER_SUBCHANNEL_NAME', ylabel='count'>"
            ]
          },
          "metadata": {},
          "execution_count": 19
        },
        {
          "output_type": "display_data",
          "data": {
            "text/plain": [
              "<Figure size 640x480 with 1 Axes>"
            ],
            "image/png": "[encoded data removed]"
          },
          "metadata": {}
        }
      ]
    },
    {
      "cell_type": "code",
      "source": [
        "from collections import Counter\n",
        "\n",
        "items = df[['item1', 'item2', 'item3']].values.flatten()\n",
        "item_counts = Counter(items)\n",
        "top_items = pd.DataFrame(item_counts.most_common(20), columns=['Item', 'Count'])\n",
        "\n",
        "top_items.plot.bar(x='Item', y='Count', figsize=(12,6), title='Top 20 Most Ordered Items')"
      ],
      "metadata": {
        "colab": {
          "base_uri": "https://localhost:8080/",
          "height": 755
        },
        "id": "AI_b8G1Vnpkr",
        "outputId": "650c5589-a8ae-40ac-d8f7-89ecd73cdce8"
      },
      "execution_count": null,
      "outputs": [
        {
          "output_type": "execute_result",
          "data": {
            "text/plain": [
              "<Axes: title={'center': 'Top 20 Most Ordered Items'}, xlabel='Item'>"
            ]
          },
          "metadata": {},
          "execution_count": 20
        },
        {
          "output_type": "display_data",
          "data": {
            "text/plain": [
              "<Figure size 1200x600 with 1 Axes>"
            ],
            "image/png": "[encoded data removed]"
          },
          "metadata": {}
        }
      ]
    },
    {
      "cell_type": "markdown",
      "source": [
        "#**It cleans and standardizes the data (lowercase, strips spaces).**\n",
        "\n",
        "#**Generates all unique item pairs from each row.**\n",
        "\n",
        "#**Counts how often each pair appears.**\n",
        "\n",
        "#**Displays the top 10 most common item pairs and their counts**."
      ],
      "metadata": {
        "id": "FrsTndegBmxe"
      }
    },
    {
      "cell_type": "code",
      "source": [
        "from itertools import combinations\n",
        "\n",
        "pair_counts = Counter()\n",
        "for row in df[['item1', 'item2', 'item3']].values:\n",
        "    row = [str(x).strip().lower() for x in row if pd.notnull(x)]\n",
        "    for pair in combinations(sorted(row), 2):\n",
        "        pair_counts[pair] += 1\n",
        "\n",
        "pd.DataFrame(pair_counts.most_common(10), columns=['Item Pair', 'Count'])"
      ],
      "metadata": {
        "colab": {
          "base_uri": "https://localhost:8080/",
          "height": 363
        },
        "id": "phAQOJqmnr4V",
        "outputId": "bf1f2f14-93e4-4fae-98b7-0cd037e54841"
      },
      "execution_count": null,
      "outputs": [
        {
          "output_type": "execute_result",
          "data": {
            "text/plain": [
              "                                          Item Pair  Count\n",
              "0      (ranch dip - regular, regular buffalo fries)     73\n",
              "1          (10 pc spicy wings, ranch dip - regular)     43\n",
              "2        (10 pc grilled wings, ranch dip - regular)     40\n",
              "3        (large buffalo fries, ranch dip - regular)     36\n",
              "4  (10 pc grilled wings combo, ranch dip - regular)     34\n",
              "5         (2 pc crispy strips, ranch dip - regular)     33\n",
              "6          (add 5 spicy wings, ranch dip - regular)     31\n",
              "7       (fried corn - regular, ranch dip - regular)     31\n",
              "8   (6 pc grilled wings combo, ranch dip - regular)     29\n",
              "9          (chicken sub combo, ranch dip - regular)     27"
            ],
            "text/html": [
              "\n",
              "  <div id=\"df-31801de0-052e-43fd-bf08-31f1c8f66a64\" class=\"colab-df-container\">\n",
              "    <div>\n",
              "<style scoped>\n",
              "    .dataframe tbody tr th:only-of-type {\n",
              "        vertical-align: middle;\n",
              "    }\n",
              "\n",
              "    .dataframe tbody tr th {\n",
              "        vertical-align: top;\n",
              "    }\n",
              "\n",
              "    .dataframe thead th {\n",
              "        text-align: right;\n",
              "    }\n",
              "</style>\n",
              "<table border=\"1\" class=\"dataframe\">\n",
              "  <thead>\n",
              "    <tr style=\"text-align: right;\">\n",
              "      <th></th>\n",
              "      <th>Item Pair</th>\n",
              "      <th>Count</th>\n",
              "    </tr>\n",
              "  </thead>\n",
              "  <tbody>\n",
              "    <tr>\n",
              "      <th>0</th>\n",
              "      <td>(ranch dip - regular, regular buffalo fries)</td>\n",
              "      <td>73</td>\n",
              "    </tr>\n",
              "    <tr>\n",
              "      <th>1</th>\n",
              "      <td>(10 pc spicy wings, ranch dip - regular)</td>\n",
              "      <td>43</td>\n",
              "    </tr>\n",
              "    <tr>\n",
              "      <th>2</th>\n",
              "      <td>(10 pc grilled wings, ranch dip - regular)</td>\n",
              "      <td>40</td>\n",
              "    </tr>\n",
              "    <tr>\n",
              "      <th>3</th>\n",
              "      <td>(large buffalo fries, ranch dip - regular)</td>\n",
              "      <td>36</td>\n",
              "    </tr>\n",
              "    <tr>\n",
              "      <th>4</th>\n",
              "      <td>(10 pc grilled wings combo, ranch dip - regular)</td>\n",
              "      <td>34</td>\n",
              "    </tr>\n",
              "    <tr>\n",
              "      <th>5</th>\n",
              "      <td>(2 pc crispy strips, ranch dip - regular)</td>\n",
              "      <td>33</td>\n",
              "    </tr>\n",
              "    <tr>\n",
              "      <th>6</th>\n",
              "      <td>(add 5 spicy wings, ranch dip - regular)</td>\n",
              "      <td>31</td>\n",
              "    </tr>\n",
              "    <tr>\n",
              "      <th>7</th>\n",
              "      <td>(fried corn - regular, ranch dip - regular)</td>\n",
              "      <td>31</td>\n",
              "    </tr>\n",
              "    <tr>\n",
              "      <th>8</th>\n",
              "      <td>(6 pc grilled wings combo, ranch dip - regular)</td>\n",
              "      <td>29</td>\n",
              "    </tr>\n",
              "    <tr>\n",
              "      <th>9</th>\n",
              "      <td>(chicken sub combo, ranch dip - regular)</td>\n",
              "      <td>27</td>\n",
              "    </tr>\n",
              "  </tbody>\n",
              "</table>\n",
              "</div>\n",
              "    <div class=\"colab-df-buttons\">\n",
              "\n",
              "  <div class=\"colab-df-container\">\n",
              "    <button class=\"colab-df-convert\" onclick=\"convertToInteractive('df-31801de0-052e-43fd-bf08-31f1c8f66a64')\"\n",
              "            title=\"Convert this dataframe to an interactive table.\"\n",
              "            style=\"display:none;\">\n",
              "\n",
              "  <svg xmlns=\"http://www.w3.org/2000/svg\" height=\"24px\" viewBox=\"0 -960 960 960\">\n",
              "    <path d=\"M120-120v-720h720v720H120Zm60-500h600v-160H180v160Zm220 220h160v-160H400v160Zm0 220h160v-160H400v160ZM180-400h160v-160H180v160Zm440 0h160v-160H620v160ZM180-180h160v-160H180v160Zm440 0h160v-160H620v160Z\"/>\n",
              "  </svg>\n",
              "    </button>\n",
              "\n",
              "  <style>\n",
              "    .colab-df-container {\n",
              "      display:flex;\n",
              "      gap: 12px;\n",
              "    }\n",
              "\n",
              "    .colab-df-convert {\n",
              "      background-color: #E8F0FE;\n",
              "      border: none;\n",
              "      border-radius: 50%;\n",
              "      cursor: pointer;\n",
              "      display: none;\n",
              "      fill: #1967D2;\n",
              "      height: 32px;\n",
              "      padding: 0 0 0 0;\n",
              "      width: 32px;\n",
              "    }\n",
              "\n",
              "    .colab-df-convert:hover {\n",
              "      background-color: #E2EBFA;\n",
              "      box-shadow: 0px 1px 2px rgba(60, 64, 67, 0.3), 0px 1px 3px 1px rgba(60, 64, 67, 0.15);\n",
              "      fill: #174EA6;\n",
              "    }\n",
              "\n",
              "    .colab-df-buttons div {\n",
              "      margin-bottom: 4px;\n",
              "    }\n",
              "\n",
              "    [theme=dark] .colab-df-convert {\n",
              "      background-color: #3B4455;\n",
              "      fill: #D2E3FC;\n",
              "    }\n",
              "\n",
              "    [theme=dark] .colab-df-convert:hover {\n",
              "      background-color: #434B5C;\n",
              "      box-shadow: 0px 1px 3px 1px rgba(0, 0, 0, 0.15);\n",
              "      filter: drop-shadow(0px 1px 2px rgba(0, 0, 0, 0.3));\n",
              "      fill: #FFFFFF;\n",
              "    }\n",
              "  </style>\n",
              "\n",
              "    <script>\n",
              "      const buttonEl =\n",
              "        document.querySelector('#df-31801de0-052e-43fd-bf08-31f1c8f66a64 button.colab-df-convert');\n",
              "      buttonEl.style.display =\n",
              "        google.colab.kernel.accessAllowed ? 'block' : 'none';\n",
              "\n",
              "      async function convertToInteractive(key) {\n",
              "        const element = document.querySelector('#df-31801de0-052e-43fd-bf08-31f1c8f66a64');\n",
              "        const dataTable =\n",
              "          await google.colab.kernel.invokeFunction('convertToInteractive',\n",
              "                                                    [key], {});\n",
              "        if (!dataTable) return;\n",
              "\n",
              "        const docLinkHtml = 'Like what you see? Visit the ' +\n",
              "          '<a target=\"_blank\" href=https://colab.research.google.com/notebooks/data_table.ipynb>data table notebook</a>'\n",
              "          + ' to learn more about interactive tables.';\n",
              "        element.innerHTML = '';\n",
              "        dataTable['output_type'] = 'display_data';\n",
              "        await google.colab.output.renderOutput(dataTable, element);\n",
              "        const docLink = document.createElement('div');\n",
              "        docLink.innerHTML = docLinkHtml;\n",
              "        element.appendChild(docLink);\n",
              "      }\n",
              "    </script>\n",
              "  </div>\n",
              "\n",
              "\n",
              "    <div id=\"df-8910edc0-d743-49fa-afb3-a887c28f590b\">\n",
              "      <button class=\"colab-df-quickchart\" onclick=\"quickchart('df-8910edc0-d743-49fa-afb3-a887c28f590b')\"\n",
              "                title=\"Suggest charts\"\n",
              "                style=\"display:none;\">\n",
              "\n",
              "<svg xmlns=\"http://www.w3.org/2000/svg\" height=\"24px\"viewBox=\"0 0 24 24\"\n",
              "     width=\"24px\">\n",
              "    <g>\n",
              "        <path d=\"M19 3H5c-1.1 0-2 .9-2 2v14c0 1.1.9 2 2 2h14c1.1 0 2-.9 2-2V5c0-1.1-.9-2-2-2zM9 17H7v-7h2v7zm4 0h-2V7h2v10zm4 0h-2v-4h2v4z\"/>\n",
              "    </g>\n",
              "</svg>\n",
              "      </button>\n",
              "\n",
              "<style>\n",
              "  .colab-df-quickchart {\n",
              "      --bg-color: #E8F0FE;\n",
              "      --fill-color: #1967D2;\n",
              "      --hover-bg-color: #E2EBFA;\n",
              "      --hover-fill-color: #174EA6;\n",
              "      --disabled-fill-color: #AAA;\n",
              "      --disabled-bg-color: #DDD;\n",
              "  }\n",
              "\n",
              "  [theme=dark] .colab-df-quickchart {\n",
              "      --bg-color: #3B4455;\n",
              "      --fill-color: #D2E3FC;\n",
              "      --hover-bg-color: #434B5C;\n",
              "      --hover-fill-color: #FFFFFF;\n",
              "      --disabled-bg-color: #3B4455;\n",
              "      --disabled-fill-color: #666;\n",
              "  }\n",
              "\n",
              "  .colab-df-quickchart {\n",
              "    background-color: var(--bg-color);\n",
              "    border: none;\n",
              "    border-radius: 50%;\n",
              "    cursor: pointer;\n",
              "    display: none;\n",
              "    fill: var(--fill-color);\n",
              "    height: 32px;\n",
              "    padding: 0;\n",
              "    width: 32px;\n",
              "  }\n",
              "\n",
              "  .colab-df-quickchart:hover {\n",
              "    background-color: var(--hover-bg-color);\n",
              "    box-shadow: 0 1px 2px rgba(60, 64, 67, 0.3), 0 1px 3px 1px rgba(60, 64, 67, 0.15);\n",
              "    fill: var(--button-hover-fill-color);\n",
              "  }\n",
              "\n",
              "  .colab-df-quickchart-complete:disabled,\n",
              "  .colab-df-quickchart-complete:disabled:hover {\n",
              "    background-color: var(--disabled-bg-color);\n",
              "    fill: var(--disabled-fill-color);\n",
              "    box-shadow: none;\n",
              "  }\n",
              "\n",
              "  .colab-df-spinner {\n",
              "    border: 2px solid var(--fill-color);\n",
              "    border-color: transparent;\n",
              "    border-bottom-color: var(--fill-color);\n",
              "    animation:\n",
              "      spin 1s steps(1) infinite;\n",
              "  }\n",
              "\n",
              "  @keyframes spin {\n",
              "    0% {\n",
              "      border-color: transparent;\n",
              "      border-bottom-color: var(--fill-color);\n",
              "      border-left-color: var(--fill-color);\n",
              "    }\n",
              "    20% {\n",
              "      border-color: transparent;\n",
              "      border-left-color: var(--fill-color);\n",
              "      border-top-color: var(--fill-color);\n",
              "    }\n",
              "    30% {\n",
              "      border-color: transparent;\n",
              "      border-left-color: var(--fill-color);\n",
              "      border-top-color: var(--fill-color);\n",
              "      border-right-color: var(--fill-color);\n",
              "    }\n",
              "    40% {\n",
              "      border-color: transparent;\n",
              "      border-right-color: var(--fill-color);\n",
              "      border-top-color: var(--fill-color);\n",
              "    }\n",
              "    60% {\n",
              "      border-color: transparent;\n",
              "      border-right-color: var(--fill-color);\n",
              "    }\n",
              "    80% {\n",
              "      border-color: transparent;\n",
              "      border-right-color: var(--fill-color);\n",
              "      border-bottom-color: var(--fill-color);\n",
              "    }\n",
              "    90% {\n",
              "      border-color: transparent;\n",
              "      border-bottom-color: var(--fill-color);\n",
              "    }\n",
              "  }\n",
              "</style>\n",
              "\n",
              "      <script>\n",
              "        async function quickchart(key) {\n",
              "          const quickchartButtonEl =\n",
              "            document.querySelector('#' + key + ' button');\n",
              "          quickchartButtonEl.disabled = true;  // To prevent multiple clicks.\n",
              "          quickchartButtonEl.classList.add('colab-df-spinner');\n",
              "          try {\n",
              "            const charts = await google.colab.kernel.invokeFunction(\n",
              "                'suggestCharts', [key], {});\n",
              "          } catch (error) {\n",
              "            console.error('Error during call to suggestCharts:', error);\n",
              "          }\n",
              "          quickchartButtonEl.classList.remove('colab-df-spinner');\n",
              "          quickchartButtonEl.classList.add('colab-df-quickchart-complete');\n",
              "        }\n",
              "        (() => {\n",
              "          let quickchartButtonEl =\n",
              "            document.querySelector('#df-8910edc0-d743-49fa-afb3-a887c28f590b button');\n",
              "          quickchartButtonEl.style.display =\n",
              "            google.colab.kernel.accessAllowed ? 'block' : 'none';\n",
              "        })();\n",
              "      </script>\n",
              "    </div>\n",
              "\n",
              "    </div>\n",
              "  </div>\n"
            ],
            "application/vnd.google.colaboratory.intrinsic+json": {
              "type": "dataframe",
              "summary": "{\n  \"name\": \"pd\",\n  \"rows\": 10,\n  \"fields\": [\n    {\n      \"column\": \"Item Pair\",\n      \"properties\": {\n        \"dtype\": \"string\",\n        \"num_unique_values\": 10,\n        \"samples\": [\n          [\n            \"6 pc grilled wings combo\",\n            \"ranch dip - regular\"\n          ],\n          [\n            \"10 pc spicy wings\",\n            \"ranch dip - regular\"\n          ],\n          [\n            \"2 pc crispy strips\",\n            \"ranch dip - regular\"\n          ]\n        ],\n        \"semantic_type\": \"\",\n        \"description\": \"\"\n      }\n    },\n    {\n      \"column\": \"Count\",\n      \"properties\": {\n        \"dtype\": \"number\",\n        \"std\": 13,\n        \"min\": 27,\n        \"max\": 73,\n        \"num_unique_values\": 9,\n        \"samples\": [\n          29,\n          43,\n          33\n        ],\n        \"semantic_type\": \"\",\n        \"description\": \"\"\n      }\n    }\n  ]\n}"
            }
          },
          "metadata": {},
          "execution_count": 21
        }
      ]
    },
    {
      "cell_type": "code",
      "source": [
        "df.groupby('CUSTOMER_TYPE')['item1'].count().plot(kind='bar', title='Order Count by Customer Type')"
      ],
      "metadata": {
        "colab": {
          "base_uri": "https://localhost:8080/",
          "height": 549
        },
        "id": "JAzU_CY5n6Ob",
        "outputId": "c9267507-4e5c-4d30-89a0-ed67a4be0667"
      },
      "execution_count": null,
      "outputs": [
        {
          "output_type": "execute_result",
          "data": {
            "text/plain": [
              "<Axes: title={'center': 'Order Count by Customer Type'}, xlabel='CUSTOMER_TYPE'>"
            ]
          },
          "metadata": {},
          "execution_count": 25
        },
        {
          "output_type": "display_data",
          "data": {
            "text/plain": [
              "<Figure size 640x480 with 1 Axes>"
            ],
            "image/png": "[encoded data removed]"
          },
          "metadata": {}
        }
      ]
    },
    {
      "cell_type": "markdown",
      "source": [
        "# **Build co-occurrence matrix**"
      ],
      "metadata": {
        "id": "1X9R6YqiruiZ"
      }
    },
    {
      "cell_type": "code",
      "source": [
        "pair_counts = Counter()\n",
        "for _, row in df.iterrows():\n",
        "    items = [row['item1'], row['item2'], row['item3']]\n",
        "    for pair in combinations(set(items), 2):\n",
        "        pair_counts[tuple(sorted(pair))] += 1\n",
        "\n",
        "# Popular items\n",
        "item_counts = Counter()\n",
        "for items in df[['item1', 'item2', 'item3']].values:\n",
        "    for item in items:\n",
        "        item_counts[item] += 1\n",
        "popular_items = [item for item, _ in item_counts.most_common()]"
      ],
      "metadata": {
        "id": "HH09FKhAmIsu"
      },
      "execution_count": null,
      "outputs": []
    },
    {
      "cell_type": "markdown",
      "source": [
        "# **Recommendation logic**"
      ],
      "metadata": {
        "id": "FuaF-YTRr05e"
      }
    },
    {
      "cell_type": "code",
      "source": [
        "def recommend_items(cart, top_n=3):\n",
        "    cart = [normalize(i) for i in cart]\n",
        "    recs = Counter()\n",
        "    for item in cart:\n",
        "        for pair, count in pair_counts.items():\n",
        "            if item in pair:\n",
        "                other = pair[0] if pair[1] == item else pair[1]\n",
        "                if other not in cart:\n",
        "                    recs[other] += count\n",
        "    results = [item for item, _ in recs.most_common(top_n)]\n",
        "    for fallback in popular_items:\n",
        "        if fallback not in cart and fallback not in results:\n",
        "            results.append(fallback)\n",
        "        if len(results) >= top_n:\n",
        "            break\n",
        "    return results[:top_n]"
      ],
      "metadata": {
        "id": "75Z5WmoOmP8w"
      },
      "execution_count": null,
      "outputs": []
    },
    {
      "cell_type": "markdown",
      "source": [
        "#**Generate recommendations**"
      ],
      "metadata": {
        "id": "m4dkM-JSr5E0"
      }
    },
    {
      "cell_type": "code",
      "execution_count": null,
      "metadata": {
        "id": "KQmtoyAx5PAU",
        "colab": {
          "base_uri": "https://localhost:8080/"
        },
        "outputId": "c1d73b09-cc12-4b6e-e2e8-7ec8c27d7711"
      },
      "outputs": [
        {
          "output_type": "stream",
          "name": "stdout",
          "text": [
            "Final Recall@3: 0.327\n"
          ]
        }
      ],
      "source": [
        "# Generate recommendations\n",
        "recs1, recs2, recs3, recall_scores = [], [], [], []\n",
        "for _, row in df.iterrows():\n",
        "    cart = [row['item1'], row['item2']]\n",
        "    actual = row['item3']\n",
        "    recs = recommend_items(cart)\n",
        "    recs1.append(recs[0] if len(recs) > 0 else \"\")\n",
        "    recs2.append(recs[1] if len(recs) > 1 else \"\")\n",
        "    recs3.append(recs[2] if len(recs) > 2 else \"\")\n",
        "    recall_scores.append(1 if actual in recs else 0)\n",
        "\n",
        "df['RECOMMENDATION 1'] = recs1\n",
        "df['RECOMMENDATION 2'] = recs2\n",
        "df['RECOMMENDATION 3'] = recs3\n",
        "df['RECALL@3'] = recall_scores\n",
        "\n",
        "# Show and save\n",
        "print(\"Final Recall@3:\", df['RECALL@3'].mean())\n",
        "df.to_excel(\"final_predictions_with_recall.xlsx\", index=False)"
      ]
    },
    {
      "cell_type": "markdown",
      "source": [
        "#**Print the final prediction output (first few rows)**"
      ],
      "metadata": {
        "id": "kfqkoUMdsCI0"
      }
    },
    {
      "cell_type": "code",
      "source": [
        "df = pd.read_excel(\"final_predictions_with_recall.xlsx\")\n",
        "print(df[['item1', 'item2', 'item3',\n",
        "                 'RECOMMENDATION 1', 'RECOMMENDATION 2', 'RECOMMENDATION 3']].head(10))\n"
      ],
      "metadata": {
        "colab": {
          "base_uri": "https://localhost:8080/"
        },
        "id": "wotuRhK-qH-v",
        "outputId": "53a875f4-a494-49d5-8aaf-4eeaf9ad3fb0"
      },
      "execution_count": null,
      "outputs": [
        {
          "output_type": "stream",
          "name": "stdout",
          "text": [
            "                      item1                item2                     item3  \\\n",
            "0         chicken sub combo  ranch dip - regular   10 pc spicy wings combo   \n",
            "1     regular buffalo fries    10 pc spicy wings  3 pc crispy strips combo   \n",
            "2       large buffalo fries    10 pc spicy wings       ranch dip - regular   \n",
            "3  6 pc grilled wings combo  20 pc grilled wings        fried corn - large   \n",
            "4     regular buffalo fries  20 pc grilled wings         ranch dip - large   \n",
            "5  3 pc crispy strips combo    chicken sub combo               chicken sub   \n",
            "6         10 pc spicy wings  ranch dip - regular       veggie sticks spicy   \n",
            "7       ranch dip - regular    add 5 spicy wings    8 pc spicy wings combo   \n",
            "8      fried corn - regular          chicken sub       ranch dip - regular   \n",
            "9       20 pc grilled wings  ranch dip - regular     regular buffalo fries   \n",
            "\n",
            "        RECOMMENDATION 1       RECOMMENDATION 2          RECOMMENDATION 3  \n",
            "0  regular buffalo fries      10 pc spicy wings       10 pc grilled wings  \n",
            "1    ranch dip - regular    10 pc grilled wings         ranch dip - large  \n",
            "2    ranch dip - regular      ranch dip - large     regular buffalo fries  \n",
            "3    ranch dip - regular  regular buffalo fries  8 pc grilled wings combo  \n",
            "4    ranch dip - regular      ranch dip - large       10 pc grilled wings  \n",
            "5    ranch dip - regular            chicken sub        2 pc crispy strips  \n",
            "6  regular buffalo fries    large buffalo fries       10 pc grilled wings  \n",
            "7  regular buffalo fries      10 pc spicy wings       large buffalo fries  \n",
            "8    ranch dip - regular  regular buffalo fries         ranch dip - large  \n",
            "9  regular buffalo fries      10 pc spicy wings       large buffalo fries  \n"
          ]
        }
      ]
    },
    {
      "cell_type": "markdown",
      "source": [
        "#**SAVED OUTPUT FILE IN .ZIP FORMAT**"
      ],
      "metadata": {
        "id": "BCg7xLfKvTub"
      }
    },
    {
      "cell_type": "code",
      "source": [
        "import zipfile\n",
        "\n",
        "output_file = '/content/final_predictions_with_recall.xlsx'\n",
        "# Create the ZIP file\n",
        "with zipfile.ZipFile('/content/wwt_submission.zip', 'w') as zipf:\n",
        "    zipf.write(output_file, arcname='Output Sheet.xlsx')\n",
        "print(\"Zipped successfully. File ready: wwt_submission.zip\")"
      ],
      "metadata": {
        "colab": {
          "base_uri": "https://localhost:8080/"
        },
        "id": "JNafFJEpuQcD",
        "outputId": "3275b90e-be79-4b68-9fc1-a512877bda07"
      },
      "execution_count": null,
      "outputs": [
        {
          "output_type": "stream",
          "name": "stdout",
          "text": [
            "Zipped successfully. File ready: wwt_submission.zip\n"
          ]
        }
      ]
    },
    {
      "cell_type": "markdown",
      "source": [
        "#**CONCLUSION**\n",
        "\n",
        "#**This project successfully addresses the WWT Unstop Round 2 challenge by delivering a functional, interpretable, and reproducible recommendation system tailored for a Quick Service Restaurant (QSR) chain. Leveraging historical transaction data and a co-occurrence-based recommendation strategy with a popularity fallback, the solution achieved a Recall@3 score of 0.327, demonstrating a solid baseline performance.The approach not only meets the competition’s requirements but also establishes a scalable framework that can be extended with personalization, contextual awareness, and hybrid recommendation techniques. With minimal computational overhead, the system is capable of generating relevant top-3 item suggestions even for sparse or unseen customer scenarios.This work showcases the ability to convert raw transactional data into actionable business insights, ultimately contributing to enhanced customer experience, higher order value, and data-driven decision-making in the QSR domain. It sets a strong foundation for further improvements and real-world deployment.**"
      ],
      "metadata": {
        "id": "ZNj6dVJ-Cyjc"
      }
    },
    {
      "cell_type": "code",
      "source": [],
      "metadata": {
        "id": "CojUmlLpuwNS"
      },
      "execution_count": null,
      "outputs": []
    }
  ]
}